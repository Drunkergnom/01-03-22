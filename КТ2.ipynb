{
  "nbformat": 4,
  "nbformat_minor": 0,
  "metadata": {
    "colab": {
      "provenance": [],
      "authorship_tag": "ABX9TyMntKZRcIHz8gs3cdi0Mh/I",
      "include_colab_link": true
    },
    "kernelspec": {
      "name": "python3",
      "display_name": "Python 3"
    },
    "language_info": {
      "name": "python"
    }
  },
  "cells": [
    {
      "cell_type": "markdown",
      "metadata": {
        "id": "view-in-github",
        "colab_type": "text"
      },
      "source": [
        "<a href=\"https://colab.research.google.com/github/Drunkergnom/01-03-22/blob/main/%D0%9A%D0%A22.ipynb\" target=\"_parent\"><img src=\"https://colab.research.google.com/assets/colab-badge.svg\" alt=\"Open In Colab\"/></a>"
      ]
    },
    {
      "cell_type": "code",
      "execution_count": null,
      "metadata": {
        "id": "uVgqZN5O1arW"
      },
      "outputs": [],
      "source": []
    },
    {
      "cell_type": "markdown",
      "source": [
        "Есть выпадающее меню с ссылками<br>\n",
        "Орагнизована карусель с картинками <br>\n",
        "Имеется подстраница с таблицей ветклиник <br>\n",
        "\n",
        "https://sites.google.com/view/dz-kozhevnikov/%D0%B2%D1%8B%D0%B1%D0%BE%D1%80\n"
      ],
      "metadata": {
        "id": "QYAqRaN61cmV"
      }
    },
    {
      "cell_type": "code",
      "source": [],
      "metadata": {
        "id": "RvhHlZPM3C7H"
      },
      "execution_count": null,
      "outputs": []
    }
  ]
}